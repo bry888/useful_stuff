{
 "cells": [
  {
   "cell_type": "code",
   "execution_count": 2,
   "metadata": {
    "collapsed": true
   },
   "outputs": [],
   "source": [
    "import pandas as pd\n",
    "import numpy as np\n",
    "\n",
    "# import biblioteka\n",
    "import sys\n",
    "sys.path.append(\"../../../functions\") # go to parent dir\n",
    "from biblioteka import get_format, format_date, print_LP_sold_offers, format_dfp_report"
   ]
  },
  {
   "cell_type": "code",
   "execution_count": null,
   "metadata": {
    "collapsed": true
   },
   "outputs": [],
   "source": [
    "[i if i in x else 'other_' for i in admlist] # list comprehension if else"
   ]
  },
  {
   "cell_type": "code",
   "execution_count": 2,
   "metadata": {
    "collapsed": true
   },
   "outputs": [],
   "source": [
    "s = pd.Series([1,2,3,4,5],index = ['a','b','c','d','e'])"
   ]
  },
  {
   "cell_type": "code",
   "execution_count": 6,
   "metadata": {},
   "outputs": [
    {
     "data": {
      "text/plain": [
       "1"
      ]
     },
     "execution_count": 6,
     "metadata": {},
     "output_type": "execute_result"
    }
   ],
   "source": [
    "s[0]"
   ]
  },
  {
   "cell_type": "code",
   "execution_count": null,
   "metadata": {
    "collapsed": true
   },
   "outputs": [],
   "source": [
    "s.iloc[:3] # slice the first three rows\n",
    "s.loc[:3] # slice up to and including label 3\n",
    "\n",
    "# https://stackoverflow.com/questions/31593201/how-are-iloc-ix-and-loc-different"
   ]
  },
  {
   "cell_type": "code",
   "execution_count": null,
   "metadata": {
    "collapsed": true
   },
   "outputs": [],
   "source": [
    "# groupby\n",
    "dfc.groupby(['format', 'category', 'month', 'brand']).sum().reset_index()\n",
    "dfagg = df.groupby(['Day', 'kropka']).agg({'Impressions': 'sum', 'Clicks': 'sum'}).reset_index() #many groups\n",
    "dfg.groupby('date').agg({'seller_id': pd.Series.nunique}) # cnt distinct\n",
    "\n",
    "# get one group\n",
    "df.groupby(['A', 'B']).get_group(('bar', 'one'))\n",
    "\n",
    "# group by count distinct\n",
    "df.groupby('Month')['Client_Id'].nunique()\n",
    "\n",
    "# groupby to list\n",
    "df = pd.DataFrame( {'a':['A','A','B','B','B','C'], 'b':[1,2,5,5,4,6]})\n",
    "df.groupby('a')['b'].apply(list)\n",
    "\n",
    "Out[76]:\n",
    "a\n",
    "A       [1, 2]\n",
    "B    [5, 5, 4]\n",
    "C          [6]"
   ]
  },
  {
   "cell_type": "code",
   "execution_count": null,
   "metadata": {
    "collapsed": true
   },
   "outputs": [],
   "source": [
    "# SQL val IN ():\n",
    "dfe5[dfe5['month'].isin(['November', 'October'])].head()"
   ]
  },
  {
   "cell_type": "code",
   "execution_count": null,
   "metadata": {
    "collapsed": true
   },
   "outputs": [],
   "source": [
    "# SQL like:\n",
    "dfe['bice'][dfe['bice'].str.contains(\"&\")]\n",
    "result[~result['format'].str.contains('Parallax|Wallpaper')] # Parallax or Wallpaper\n",
    "\n",
    "# replace part of the string\n",
    "df.val.str.replace('HF -', 'Hi')\n",
    "# replace whole value in Series\n",
    "dfpl['CA_NAME_2'] = dfpl['CA_NAME_2'].apply(lambda x: x if x != '' else 'None') #lol"
   ]
  },
  {
   "cell_type": "code",
   "execution_count": null,
   "metadata": {
    "collapsed": true
   },
   "outputs": [],
   "source": [
    "# return two columns\n",
    "def foo(row):\n",
    "    return pandas.Series({\"X\": row[\"A\"]+row[\"B\"], \"Y\": row[\"A\"]-row[\"B\"]})\n",
    "\n",
    ">>> d.apply(foo, axis=1)"
   ]
  },
  {
   "cell_type": "code",
   "execution_count": null,
   "metadata": {
    "collapsed": true
   },
   "outputs": [],
   "source": [
    "# sorting df\n",
    "df.sort_values('month')\n",
    "df.sort_values(['format', 'transactions_count'])"
   ]
  },
  {
   "cell_type": "code",
   "execution_count": null,
   "metadata": {
    "collapsed": true
   },
   "outputs": [],
   "source": [
    "# rename column\n",
    "df.rename(columns={'oldName1': 'newName1', 'oldName2': 'newName2'}, inplace=True) #inplace if change on this df"
   ]
  },
  {
   "cell_type": "code",
   "execution_count": null,
   "metadata": {
    "collapsed": true
   },
   "outputs": [],
   "source": [
    "# merge = sql join\n",
    "df_all = pd.merge(df, display, on=['lineitemid', 'creativeid'], how='outer')\n",
    "pandas.merge(df1, df2, how='left', left_on=['id_key'], right_on=['fk_key'])\n",
    "\n",
    "# pd.merge VS pd.join:\n",
    "result = left.join(right, how='inner') # need to .set_index!\n",
    "# This same behavior can be achieved using merge plus additional arguments instructing it to use the indexes:\n",
    "result = pd.merge(left, right, left_index=True, right_index=True, how='outer')\n",
    "\n",
    "# concat jedno na drugie [daje mu liste]\n",
    "pd.concat([dfp[['lineitemid', 'creativeid', 'format', 'impressions', 'clicks']],\n",
    "            dfs[['lineitemid', 'creativeid', 'format', 'impressions', 'clicks']]\n",
    "            ])\n",
    "\n",
    "# concat strings\n",
    "pdict['Key-values'] = pdict.hash.map(str) + '=' + pdict.profile_value"
   ]
  },
  {
   "cell_type": "code",
   "execution_count": null,
   "metadata": {
    "collapsed": true
   },
   "outputs": [],
   "source": [
    "list(df) # gives list of column names\n",
    "result_dfp.columns.tolist() # albo tak\n",
    "\n",
    "sorted(list(df_click['format'].unique())) # give distinct values\n",
    "cat_dict = cat_dict[['CA_ID_1', 'CA_NAME_1']].drop_duplicates() #distinct df rows\n",
    "\n",
    "df.value_counts() # -> szybki count group by = liczebność powtórzeń tylko na Series! Nie na DF!\n",
    "df.groupby(['Format', 'Category']).count()"
   ]
  },
  {
   "cell_type": "code",
   "execution_count": null,
   "metadata": {
    "collapsed": true
   },
   "outputs": [],
   "source": [
    "# NULLE i NaNy\n",
    "df.isnull()\n",
    "df.notnull()"
   ]
  },
  {
   "cell_type": "code",
   "execution_count": null,
   "metadata": {
    "collapsed": true
   },
   "outputs": [],
   "source": [
    "# formatting\n",
    "dfc['gmv'].apply(lambda x: float(x.replace(',', '.')))\n",
    "df[['quant', 'tranzakcje']].astype(float) ##zwraca NaNy????"
   ]
  },
  {
   "cell_type": "code",
   "execution_count": null,
   "metadata": {
    "collapsed": true
   },
   "outputs": [],
   "source": [
    "# odpal funkcję na Serii / na DF\n",
    "df['category'] = df['bim'].apply(lambda x: get_category(x))\n",
    "df['brand'] = df.apply(get_brand, axis=1)\n",
    "dimps = format_dfp_report(dimps)"
   ]
  },
  {
   "cell_type": "code",
   "execution_count": null,
   "metadata": {
    "collapsed": true
   },
   "outputs": [],
   "source": [
    "# Partition over and row_number\n",
    "cohorts['Period'] = cohorts.sort_values(['Month'], ascending=[True]) \\\n",
    "             .groupby(['cohort_group']) \\\n",
    "             .cumcount() + 1"
   ]
  },
  {
   "cell_type": "code",
   "execution_count": null,
   "metadata": {
    "collapsed": true
   },
   "outputs": [],
   "source": [
    "# cumsum distincts. Np: ilość użytkowników, którzy się zapisują po dniach\n",
    "df7.groupby('v_date_local_daily').buyer_id.nunique().cumsum()"
   ]
  },
  {
   "cell_type": "code",
   "execution_count": null,
   "metadata": {
    "collapsed": true
   },
   "outputs": [],
   "source": [
    "# having\n",
    "result.groupby(['Creative ID']).filter(lambda x: len(x) == 2) # having count(*) = 2"
   ]
  },
  {
   "cell_type": "code",
   "execution_count": null,
   "metadata": {
    "collapsed": true
   },
   "outputs": [],
   "source": [
    "# subtract\n",
    "display[~display['Creative ID'].isin(gmv_all['Creative ID'])] # dziala\n",
    "# cos od Peter: https://pandas.pydata.org/pandas-docs/stable/generated/pandas.DataFrame.subtract.html"
   ]
  },
  {
   "cell_type": "code",
   "execution_count": null,
   "metadata": {
    "collapsed": true
   },
   "outputs": [],
   "source": [
    "df = pd.read_csv('Smart_showcase_pv.csv', sep=';')\n",
    "df.to_csv('result.csv', sep='\\t', encoding='utf-8', index=False)\n",
    "cat_dict = pd.read_csv('tabelka_kategorii_1i2rz.csv', \\\n",
    "                       dtype={'CA_ID_1': np.int32, 'CA_NAME_1': object, 'CA_ID_2': np.float64, 'CA_NAME_2': object})\n",
    "\n",
    "bslogo = pd.read_csv('Display_pazdziernik_bslogo.csv', sep='\\t').fillna(0).astype({\"Impressions\": int, \"Clicks\": int})\n",
    "df.fillna({'a':0,'b':0}) # only selected columns"
   ]
  },
  {
   "cell_type": "code",
   "execution_count": null,
   "metadata": {
    "collapsed": true
   },
   "outputs": [],
   "source": [
    "# Series to list\n",
    "url_list = df.tolist()"
   ]
  },
  {
   "cell_type": "code",
   "execution_count": null,
   "metadata": {
    "collapsed": true
   },
   "outputs": [],
   "source": [
    "#ciekawostka - pivot, ale nie robi tego, co chcę (column agg = imps,...,clicks,... :/)\n",
    "table = pd.pivot_table(dfe8, values=['Total ad impressions', 'Total clicks'],\n",
    "                    index=None, columns=['format', 'category', 'month', 'brand'], aggfunc='sum').reset_index()"
   ]
  },
  {
   "cell_type": "code",
   "execution_count": null,
   "metadata": {
    "collapsed": true
   },
   "outputs": [],
   "source": [
    "#tez ciekawostka\n",
    "dfe = dfe.append(dfe8[['format', 'category', 'month', 'brand', 'Total ad impressions', 'Total clicks']] \\\n",
    "    .groupby(['format', 'category', 'month', 'brand']).sum().reset_index())"
   ]
  },
  {
   "cell_type": "code",
   "execution_count": null,
   "metadata": {
    "collapsed": true
   },
   "outputs": [],
   "source": [
    "# drop column\n",
    "df = df.drop(['Click-through URL'], axis=1)"
   ]
  },
  {
   "cell_type": "markdown",
   "metadata": {},
   "source": [
    "# Pivoty"
   ]
  },
  {
   "cell_type": "code",
   "execution_count": 23,
   "metadata": {},
   "outputs": [
    {
     "data": {
      "text/html": [
       "<div>\n",
       "<style>\n",
       "    .dataframe thead tr:only-child th {\n",
       "        text-align: right;\n",
       "    }\n",
       "\n",
       "    .dataframe thead th {\n",
       "        text-align: left;\n",
       "    }\n",
       "\n",
       "    .dataframe tbody tr th {\n",
       "        vertical-align: top;\n",
       "    }\n",
       "</style>\n",
       "<table border=\"1\" class=\"dataframe\">\n",
       "  <thead>\n",
       "    <tr style=\"text-align: right;\">\n",
       "      <th></th>\n",
       "      <th>brands</th>\n",
       "      <th>color</th>\n",
       "      <th>money</th>\n",
       "      <th>users</th>\n",
       "    </tr>\n",
       "  </thead>\n",
       "  <tbody>\n",
       "    <tr>\n",
       "      <th>0</th>\n",
       "      <td>durex</td>\n",
       "      <td>gold</td>\n",
       "      <td>1000</td>\n",
       "      <td>3</td>\n",
       "    </tr>\n",
       "    <tr>\n",
       "      <th>1</th>\n",
       "      <td>durex</td>\n",
       "      <td>bronze</td>\n",
       "      <td>3000</td>\n",
       "      <td>4</td>\n",
       "    </tr>\n",
       "    <tr>\n",
       "      <th>2</th>\n",
       "      <td>scholl</td>\n",
       "      <td>gold</td>\n",
       "      <td>2000</td>\n",
       "      <td>5</td>\n",
       "    </tr>\n",
       "    <tr>\n",
       "      <th>3</th>\n",
       "      <td>scholl</td>\n",
       "      <td>silver</td>\n",
       "      <td>8000</td>\n",
       "      <td>6</td>\n",
       "    </tr>\n",
       "  </tbody>\n",
       "</table>\n",
       "</div>"
      ],
      "text/plain": [
       "   brands   color  money  users\n",
       "0   durex    gold   1000      3\n",
       "1   durex  bronze   3000      4\n",
       "2  scholl    gold   2000      5\n",
       "3  scholl  silver   8000      6"
      ]
     },
     "execution_count": 23,
     "metadata": {},
     "output_type": "execute_result"
    }
   ],
   "source": [
    "d = {'brands': ['durex', 'durex', 'scholl', 'scholl'], \n",
    "     'color': ['gold', 'bronze', 'gold', 'silver'], \n",
    "     'users': [3, 4, 5, 6], 'money': [1000, 3000, 2000, 8000]}\n",
    "df = pd.DataFrame(data=d)\n",
    "df.head()"
   ]
  },
  {
   "cell_type": "code",
   "execution_count": 24,
   "metadata": {},
   "outputs": [
    {
     "data": {
      "text/html": [
       "<div>\n",
       "<style>\n",
       "    .dataframe thead tr:only-child th {\n",
       "        text-align: right;\n",
       "    }\n",
       "\n",
       "    .dataframe thead th {\n",
       "        text-align: left;\n",
       "    }\n",
       "\n",
       "    .dataframe tbody tr th {\n",
       "        vertical-align: top;\n",
       "    }\n",
       "</style>\n",
       "<table border=\"1\" class=\"dataframe\">\n",
       "  <thead>\n",
       "    <tr style=\"text-align: right;\">\n",
       "      <th>color</th>\n",
       "      <th>bronze</th>\n",
       "      <th>gold</th>\n",
       "      <th>silver</th>\n",
       "    </tr>\n",
       "    <tr>\n",
       "      <th>brands</th>\n",
       "      <th></th>\n",
       "      <th></th>\n",
       "      <th></th>\n",
       "    </tr>\n",
       "  </thead>\n",
       "  <tbody>\n",
       "    <tr>\n",
       "      <th>durex</th>\n",
       "      <td>4.0</td>\n",
       "      <td>3.0</td>\n",
       "      <td>NaN</td>\n",
       "    </tr>\n",
       "    <tr>\n",
       "      <th>scholl</th>\n",
       "      <td>NaN</td>\n",
       "      <td>5.0</td>\n",
       "      <td>6.0</td>\n",
       "    </tr>\n",
       "  </tbody>\n",
       "</table>\n",
       "</div>"
      ],
      "text/plain": [
       "color   bronze  gold  silver\n",
       "brands                      \n",
       "durex      4.0   3.0     NaN\n",
       "scholl     NaN   5.0     6.0"
      ]
     },
     "execution_count": 24,
     "metadata": {},
     "output_type": "execute_result"
    }
   ],
   "source": [
    "df.pivot(index='brands', columns='color', values='users')"
   ]
  },
  {
   "cell_type": "code",
   "execution_count": 25,
   "metadata": {},
   "outputs": [
    {
     "data": {
      "text/html": [
       "<div>\n",
       "<style>\n",
       "    .dataframe thead tr:only-child th {\n",
       "        text-align: right;\n",
       "    }\n",
       "\n",
       "    .dataframe thead th {\n",
       "        text-align: left;\n",
       "    }\n",
       "\n",
       "    .dataframe tbody tr th {\n",
       "        vertical-align: top;\n",
       "    }\n",
       "</style>\n",
       "<table border=\"1\" class=\"dataframe\">\n",
       "  <thead>\n",
       "    <tr>\n",
       "      <th></th>\n",
       "      <th>money</th>\n",
       "      <th>money</th>\n",
       "      <th>money</th>\n",
       "      <th>users</th>\n",
       "      <th>users</th>\n",
       "      <th>users</th>\n",
       "    </tr>\n",
       "    <tr>\n",
       "      <th>color</th>\n",
       "      <th>bronze</th>\n",
       "      <th>gold</th>\n",
       "      <th>silver</th>\n",
       "      <th>bronze</th>\n",
       "      <th>gold</th>\n",
       "      <th>silver</th>\n",
       "    </tr>\n",
       "    <tr>\n",
       "      <th>brands</th>\n",
       "      <th></th>\n",
       "      <th></th>\n",
       "      <th></th>\n",
       "      <th></th>\n",
       "      <th></th>\n",
       "      <th></th>\n",
       "    </tr>\n",
       "  </thead>\n",
       "  <tbody>\n",
       "    <tr>\n",
       "      <th>durex</th>\n",
       "      <td>3000.0</td>\n",
       "      <td>1000.0</td>\n",
       "      <td>NaN</td>\n",
       "      <td>4.0</td>\n",
       "      <td>3.0</td>\n",
       "      <td>NaN</td>\n",
       "    </tr>\n",
       "    <tr>\n",
       "      <th>scholl</th>\n",
       "      <td>NaN</td>\n",
       "      <td>2000.0</td>\n",
       "      <td>8000.0</td>\n",
       "      <td>NaN</td>\n",
       "      <td>5.0</td>\n",
       "      <td>6.0</td>\n",
       "    </tr>\n",
       "  </tbody>\n",
       "</table>\n",
       "</div>"
      ],
      "text/plain": [
       "         money   money   money  users users  users\n",
       "color   bronze    gold  silver bronze  gold silver\n",
       "brands                                            \n",
       "durex   3000.0  1000.0     NaN    4.0   3.0    NaN\n",
       "scholl     NaN  2000.0  8000.0    NaN   5.0    6.0"
      ]
     },
     "execution_count": 25,
     "metadata": {},
     "output_type": "execute_result"
    }
   ],
   "source": [
    "pd.set_option('display.multi_sparse', False) # rozbija dziwnie te multi-indexy\n",
    "df.pivot(index='brands', columns='color')"
   ]
  },
  {
   "cell_type": "code",
   "execution_count": 37,
   "metadata": {},
   "outputs": [
    {
     "data": {
      "text/html": [
       "<div>\n",
       "<style>\n",
       "    .dataframe thead tr:only-child th {\n",
       "        text-align: right;\n",
       "    }\n",
       "\n",
       "    .dataframe thead th {\n",
       "        text-align: left;\n",
       "    }\n",
       "\n",
       "    .dataframe tbody tr th {\n",
       "        vertical-align: top;\n",
       "    }\n",
       "</style>\n",
       "<table border=\"1\" class=\"dataframe\">\n",
       "  <thead>\n",
       "    <tr style=\"text-align: right;\">\n",
       "      <th>color</th>\n",
       "      <th>bronze</th>\n",
       "      <th>gold</th>\n",
       "      <th>silver</th>\n",
       "    </tr>\n",
       "    <tr>\n",
       "      <th>brands</th>\n",
       "      <th></th>\n",
       "      <th></th>\n",
       "      <th></th>\n",
       "    </tr>\n",
       "  </thead>\n",
       "  <tbody>\n",
       "    <tr>\n",
       "      <th>durex</th>\n",
       "      <td>4.0</td>\n",
       "      <td>3.0</td>\n",
       "      <td>NaN</td>\n",
       "    </tr>\n",
       "    <tr>\n",
       "      <th>scholl</th>\n",
       "      <td>NaN</td>\n",
       "      <td>5.0</td>\n",
       "      <td>6.0</td>\n",
       "    </tr>\n",
       "  </tbody>\n",
       "</table>\n",
       "</div>"
      ],
      "text/plain": [
       "color   bronze  gold  silver\n",
       "brands                      \n",
       "durex      4.0   3.0     NaN\n",
       "scholl     NaN   5.0     6.0"
      ]
     },
     "execution_count": 37,
     "metadata": {},
     "output_type": "execute_result"
    }
   ],
   "source": [
    "# to aggregate duplicates: here mean\n",
    "df.pivot_table(index='brands', columns='color', values='users', aggfunc=np.mean)"
   ]
  },
  {
   "cell_type": "code",
   "execution_count": null,
   "metadata": {
    "collapsed": true
   },
   "outputs": [],
   "source": [
    "# pivot raport\n",
    "pivotdfp = pd.pivot_table(gmv, index=['order_id','line_item_id','creative_id'], columns ='action')"
   ]
  },
  {
   "cell_type": "code",
   "execution_count": null,
   "metadata": {
    "collapsed": true
   },
   "outputs": [],
   "source": [
    "pd.melt # unpivots df"
   ]
  },
  {
   "cell_type": "code",
   "execution_count": null,
   "metadata": {
    "collapsed": true
   },
   "outputs": [],
   "source": [
    "df.stack() , df.unstack() # przerzuca podkolumny między x i y\n",
    "# https://nikgrozev.com/2015/07/01/reshaping-in-pandas-pivot-pivot-table-stack-and-unstack-explained-with-pictures/"
   ]
  },
  {
   "cell_type": "code",
   "execution_count": null,
   "metadata": {
    "collapsed": true
   },
   "outputs": [],
   "source": [
    "# change value in df\n",
    "gmv.at[6, 'order_id'] = 'PG_Pampers_ReklamaTV'\n",
    "\n",
    "#df.loc[df[<some_column_name>] == <condition>, [<another_column_name>]] = <value_to_add>\n",
    "fdf.loc[fdf[('Display', 'Line item')] == 'Showcase_MOBILE_MP', ('Transactions', 'all')] = 26\n",
    "\n",
    "# znajduje row po wartościach w indexie:\n",
    "fdf.loc[[('Henkel_Cleaning_2019', 'Showcase_MOBILE_MP')]]"
   ]
  },
  {
   "cell_type": "code",
   "execution_count": null,
   "metadata": {
    "collapsed": true
   },
   "outputs": [],
   "source": [
    "# stackoverflow Multiindexy\n",
    "import numpy as np\n",
    "\n",
    "arrays = [['bar', 'bar', 'baz', 'baz', 'foo', 'foo', 'qux', 'qux'],\n",
    "          ['one', 'two', 'one', 'two', 'one', 'two', 'one', 'two']]\n",
    "tuples = list(zip(*arrays))\n",
    "index = pd.MultiIndex.from_tuples(tuples, names=['first', 'second'])\n",
    "df = pd.DataFrame(np.random.randn(3, 8), index=['A', 'B', 'C'], columns=index)\n",
    "df2 = pd.DataFrame(np.random.randn(3), index=['A', 'B', 'C'],columns=['w'])\n",
    "df3 = df.join(df2)\n",
    "\n",
    "#example\n",
    "disp_all = disp_all.set_index(['order_id','line_item_id','creative_id'])\n",
    "disp_all.columns = pd.MultiIndex.from_product([['Display'], disp_all.columns])\n",
    "result_all = disp_all.join(pivotall, how='outer').reset_index()"
   ]
  },
  {
   "cell_type": "code",
   "execution_count": null,
   "metadata": {
    "collapsed": true
   },
   "outputs": [],
   "source": [
    "# plot\n",
    "df.plot(x='Day', y='Impressions', kind='bar', rot=90, figsize=(20,7))\n",
    "logo.plot(x='day', y=['boxView', 'click'], kind='bar', rot=90, figsize=(20,7))\n",
    "df.hist(column='eCPM', bins=40)\n",
    "df.plot.scatter(x='CTR', y='eCPM')\n",
    "df.plot(kind='density', rot=90, figsize=(10,4), title='devoxx polska 2017', bw_method=0.15,\n",
    "                          xticks=[0, 2500, 5000, 7500, 10000], xlim=(0,10000))\n",
    "sa.plot(y='ratio', kind='pie',  figsize=(4,4))\n",
    "# bar plot labels on top of the bar: \n",
    "# https://stackoverflow.com/questions/23591254/python-pandas-matplotlib-annotating-labels-above-bar-chart-columns/34598688"
   ]
  },
  {
   "cell_type": "code",
   "execution_count": null,
   "metadata": {
    "collapsed": true
   },
   "outputs": [],
   "source": [
    "# lepsszy boxplot\n",
    "ax = sns.violinplot(x=df_diff_dates['diff_dt'], color='#cc4c02')"
   ]
  },
  {
   "cell_type": "code",
   "execution_count": null,
   "metadata": {
    "collapsed": true
   },
   "outputs": [],
   "source": [
    "# correlation\n",
    "from scipy.stats.stats import pearsonr\n",
    "\n",
    "features_list = new.columns[1:]\n",
    "for x in features_list:\n",
    "    print('Variable: {}, Correlation: {:.2f}'.format(x, pearsonr(new['eCPM'].astype(float), new[x].astype(float))[0]))"
   ]
  },
  {
   "cell_type": "code",
   "execution_count": null,
   "metadata": {
    "collapsed": true
   },
   "outputs": [],
   "source": [
    "# concat with dummies\n",
    "format_matrix = pd.get_dummies(df['Format'])\n",
    "new = pd.concat([df[['eCPM','category','profile','CTR', 'Rate']], format_matrix, brand_matrix], axis=1)"
   ]
  },
  {
   "cell_type": "code",
   "execution_count": null,
   "metadata": {
    "collapsed": true
   },
   "outputs": [],
   "source": [
    "# assign robi nową kolumnę\n",
    "df_x = (pd.DataFrame(df_events['path_fin'].value_counts())\n",
    "        .rename(columns={'index':'path', 'path_fin':'path_cnt'})\n",
    "        .assign(ratio_cum = lambda x: x['ratio'].cumsum())\n",
    "        .rename(columns={'path':'Ścieżka', 'path_cnt':'Liczba ścieżek', 'ratio':'% udział', 'ratio_cum':'% skumulowany'})\n",
    "       )\n",
    "\n",
    "# top 10 ścieżek zakupowych \n",
    "df_x.head(10).style.format({'% udział':\"{:.2f}\"+\"%\", '% skumulowany':\"{:.2f}\"+\"%\"})"
   ]
  },
  {
   "cell_type": "code",
   "execution_count": null,
   "metadata": {
    "collapsed": true
   },
   "outputs": [],
   "source": [
    "# pandas array to columns :D\n",
    "{'bi_s': ['reklama'], 'bi_m': ['HalfPage'], 'bi_c': ['Strefa_Fisher_Price'], \n",
    " 'bi_cat': ['11763'], 'string': ['lusterko samochodowe dla dziecka'], 'order': ['m'], \n",
    " 'bmatch': ['baseline-cl-pn-aut-1-1-1017'], 'p': ['2']} \n",
    "\n",
    "df['atrs'].apply(pd.Series) # > out: every key in a column\n",
    "df['atrs'].apply(pd.Series).notnull().sum() # licznosci notnull/isnull"
   ]
  },
  {
   "cell_type": "code",
   "execution_count": null,
   "metadata": {
    "collapsed": true
   },
   "outputs": [],
   "source": [
    "# stylowanie describa :D\n",
    "orders_dataset[['orders_cnt', 'gmv', 'delivery_cost', 'users_cnt']].describe().T.style.format({'mean':'{0:,.2f}'})\n",
    "# albo\n",
    "tns['Transactions'].describe().apply(lambda x: format(x, 'f'))\n",
    "# select measures\n",
    "br_in.describe().loc[['min','25%','50%','75%','max']]\n",
    "\n",
    "# get quantile every 0.1\n",
    "qntiles = [i/10 for i in range(0,11,1)]\n",
    "tns['Transactions'].quantile(q=qntiles)"
   ]
  },
  {
   "cell_type": "code",
   "execution_count": null,
   "metadata": {
    "collapsed": true
   },
   "outputs": [],
   "source": []
  },
  {
   "cell_type": "code",
   "execution_count": null,
   "metadata": {
    "collapsed": true
   },
   "outputs": [],
   "source": [
    "# to pickle > nieedytowalna binarka\n",
    "import pickle\n",
    "import os\n",
    "\n",
    "task_id = 'B-29'\n",
    "\n",
    "ple.to_pickle('styczen_gmv.pkl')\n",
    "os.system('hdfs dfs -put -f reckit_styczen_gmv.pkl /projects/{task_id}/styczen_gmv.pkl'.format(task_id=task_id))\n",
    "\n",
    "# ponoc potem read_pickle"
   ]
  },
  {
   "cell_type": "code",
   "execution_count": null,
   "metadata": {
    "collapsed": true
   },
   "outputs": [],
   "source": [
    "# pandas to jira lol\n",
    "import tabulate\n",
    "print(tabulate.tabulate(df, tablefmt='jira'))"
   ]
  },
  {
   "cell_type": "code",
   "execution_count": null,
   "metadata": {
    "collapsed": true
   },
   "outputs": [],
   "source": [
    "`tips = sns.load_dataset('tips')`\n",
    "`df_tips = spark.createDataFrame(tips)`\n",
    "\n",
    "`df_tips.repartition(10).write.mode('overwrite').parquet('/user/somebody/df_tips')`"
   ]
  },
  {
   "cell_type": "code",
   "execution_count": null,
   "metadata": {
    "collapsed": true
   },
   "outputs": [],
   "source": [
    "# pamięć\n",
    "https://www.dataquest.io/blog/pandas-big-data/\n",
    "    \n",
    "# a miałem ostatnio sporą macierz i wymuszenie dtype 'float16' zamiast 'float64' dało sporą oszczędność pamięci\n",
    "- driver memory - tak jak pisał @lukasz.knade ustaw na '5g'\n",
    "- ustaw max pamięci na memory executora, by z overheadem sumował się do '15g'\n",
    "- wydaje mi się, że warto zmniejszyć ilość rdzeni do 2; każdy rdzeń dodatkowo dzieli pamięć\n",
    "\n",
    "print(sys.getsizeof(twoj_df)/float(1024**2), 'MB')\n",
    "df.info(memory_usage=‘deep’)\n",
    "\n",
    "# wielkość stringa\n",
    "from sys import getsizeof\n",
    "s = 'working out'\n",
    "print(getsizeof(s))"
   ]
  },
  {
   "cell_type": "code",
   "execution_count": null,
   "metadata": {
    "collapsed": true
   },
   "outputs": [],
   "source": [
    "# Create a Pandas Excel writer using XlsxWriter as the engine.\n",
    "writer = pd.ExcelWriter('Time_to_transaction-june.xlsx', engine='xlsxwriter')\n",
    "# Convert the dataframe to an XlsxWriter Excel object.\n",
    "a.to_excel(writer, sheet_name='post click vs view', startrow=0)\n",
    "b.to_excel(writer, sheet_name='kubełki', startrow=0)\n",
    "c.to_excel(writer, sheet_name='click to tra', startrow=0)\n",
    "writer.save()"
   ]
  },
  {
   "cell_type": "code",
   "execution_count": null,
   "metadata": {
    "collapsed": true
   },
   "outputs": [],
   "source": []
  },
  {
   "cell_type": "code",
   "execution_count": 1,
   "metadata": {},
   "outputs": [
    {
     "name": "stdout",
     "output_type": "stream",
     "text": [
      "<class 'pandas.core.frame.DataFrame'>\n",
      "RangeIndex: 6 entries, 0 to 5\n",
      "Data columns (total 2 columns):\n",
      "col1    6 non-null object\n",
      "col2    6 non-null datetime64[ns]\n",
      "dtypes: datetime64[ns](1), object(1)\n",
      "memory usage: 176.0+ bytes\n"
     ]
    }
   ],
   "source": [
    "# Cudo\n",
    "# https://stackoverflow.com/questions/49347002/pandas-count-rows-within-time-moving-window\n",
    "\n",
    "import pandas as pd\n",
    "d = [{'col1' : ' B', 'col2' : '2015-3-06 01:37:57'},\n",
    "       {'col1' : ' A', 'col2' : '2015-3-06 01:39:57'},\n",
    "       {'col1' : ' A', 'col2' : '2015-3-06 01:45:28'},\n",
    "       {'col1' : ' B', 'col2' : '2015-3-06 02:31:44'},\n",
    "       {'col1' : ' B', 'col2' : '2015-3-06 03:55:45'},\n",
    "       {'col1' : ' B', 'col2' : '2015-3-06 04:01:40'}]\n",
    "df = pd.DataFrame(d)\n",
    "df['col2'] = pd.to_datetime(df['col2'])\n",
    "df.info()"
   ]
  },
  {
   "cell_type": "code",
   "execution_count": 2,
   "metadata": {},
   "outputs": [
    {
     "name": "stdout",
     "output_type": "stream",
     "text": [
      "0 days 00:10:00\n"
     ]
    }
   ],
   "source": [
    "dt = pd.Timedelta(10, unit='m')\n",
    "print(dt)"
   ]
  },
  {
   "cell_type": "code",
   "execution_count": 4,
   "metadata": {},
   "outputs": [
    {
     "data": {
      "text/html": [
       "<div>\n",
       "<style>\n",
       "    .dataframe thead tr:only-child th {\n",
       "        text-align: right;\n",
       "    }\n",
       "\n",
       "    .dataframe thead th {\n",
       "        text-align: left;\n",
       "    }\n",
       "\n",
       "    .dataframe tbody tr th {\n",
       "        vertical-align: top;\n",
       "    }\n",
       "</style>\n",
       "<table border=\"1\" class=\"dataframe\">\n",
       "  <thead>\n",
       "    <tr style=\"text-align: right;\">\n",
       "      <th></th>\n",
       "      <th>col1</th>\n",
       "      <th>col2</th>\n",
       "      <th>count1</th>\n",
       "    </tr>\n",
       "  </thead>\n",
       "  <tbody>\n",
       "    <tr>\n",
       "      <th>0</th>\n",
       "      <td>B</td>\n",
       "      <td>2015-03-06 01:37:57</td>\n",
       "      <td>1</td>\n",
       "    </tr>\n",
       "    <tr>\n",
       "      <th>1</th>\n",
       "      <td>A</td>\n",
       "      <td>2015-03-06 01:39:57</td>\n",
       "      <td>1</td>\n",
       "    </tr>\n",
       "    <tr>\n",
       "      <th>2</th>\n",
       "      <td>A</td>\n",
       "      <td>2015-03-06 01:45:28</td>\n",
       "      <td>2</td>\n",
       "    </tr>\n",
       "    <tr>\n",
       "      <th>3</th>\n",
       "      <td>B</td>\n",
       "      <td>2015-03-06 02:31:44</td>\n",
       "      <td>1</td>\n",
       "    </tr>\n",
       "    <tr>\n",
       "      <th>4</th>\n",
       "      <td>B</td>\n",
       "      <td>2015-03-06 03:55:45</td>\n",
       "      <td>1</td>\n",
       "    </tr>\n",
       "    <tr>\n",
       "      <th>5</th>\n",
       "      <td>B</td>\n",
       "      <td>2015-03-06 04:01:40</td>\n",
       "      <td>2</td>\n",
       "    </tr>\n",
       "  </tbody>\n",
       "</table>\n",
       "</div>"
      ],
      "text/plain": [
       "  col1                col2  count1\n",
       "0    B 2015-03-06 01:37:57       1\n",
       "1    A 2015-03-06 01:39:57       1\n",
       "2    A 2015-03-06 01:45:28       2\n",
       "3    B 2015-03-06 02:31:44       1\n",
       "4    B 2015-03-06 03:55:45       1\n",
       "5    B 2015-03-06 04:01:40       2"
      ]
     },
     "execution_count": 4,
     "metadata": {},
     "output_type": "execute_result"
    }
   ],
   "source": [
    "def count1(row):\n",
    "    id1 = row['col1']\n",
    "    start_time = row['col2'] - dt\n",
    "    end_time = row['col2']\n",
    "    mask = (df['col1'] == id1) & ((df['col2'] >= start_time) & (df['col2'] <= end_time))\n",
    "    return df.loc[mask].shape[0]\n",
    "\n",
    "df['count1'] = df.apply(count1, axis=1)\n",
    "\n",
    "df"
   ]
  },
  {
   "cell_type": "code",
   "execution_count": null,
   "metadata": {
    "collapsed": true
   },
   "outputs": [],
   "source": []
  }
 ],
 "metadata": {
  "kernelspec": {
   "display_name": "Python 3",
   "language": "python",
   "name": "python3"
  },
  "language_info": {
   "codemirror_mode": {
    "name": "ipython",
    "version": 3
   },
   "file_extension": ".py",
   "mimetype": "text/x-python",
   "name": "python",
   "nbconvert_exporter": "python",
   "pygments_lexer": "ipython3",
   "version": "3.7.3"
  }
 },
 "nbformat": 4,
 "nbformat_minor": 2
}
