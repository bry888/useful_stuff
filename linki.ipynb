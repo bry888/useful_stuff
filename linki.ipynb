{
 "cells": [
  {
   "cell_type": "markdown",
   "metadata": {},
   "source": [
    "    Google Analytics"
   ]
  },
  {
   "cell_type": "markdown",
   "metadata": {},
   "source": [
    "https://academy.exceedlms.com/student/path/2938\n",
    "https://www.youtube.com/channel/UCJ5UyIAa5nEGksjcdp43Ixw\n",
    "https://dashthis.com/blog/google-analytics-the-difference-between-landing-page-path-and-destination-url/\n",
    "https://www.bounteous.com/insights/2016/11/30/understanding-scope-google-analytics-reporting/?ns=l\n",
    "https://moz.com/ugc/how-to-use-six-google-analytics-reports-to-complete-a-website-content-audit\n",
    "https://www.e-nor.com/blog/google-analytics/direct-visits-google-analytics-attribution-precedence\n",
    "\n",
    "konwersje\n",
    "https://www.conversion.pl/blog/atrybucja-konwersji-w-google-analytics-jak-wybrac-odpowiedni-model/\n",
    "https://support.google.com/analytics/answer/1662518?hl=pl\n",
    "https://marketingdlaludzi.pl/konwersje-wspomagane-w-google-analytics/\n",
    "https://support.google.com/analytics/answer/1191204?hl=pl"
   ]
  },
  {
   "cell_type": "markdown",
   "metadata": {},
   "source": [
    "    TESTY AB"
   ]
  },
  {
   "cell_type": "markdown",
   "metadata": {},
   "source": [
    "https://conversionxl.com/blog/12-ab-split-testing-mistakes-i-see-businesses-make-all-the-time/\n",
    "https://conversionxl.com/ab-test-calculator/"
   ]
  },
  {
   "cell_type": "markdown",
   "metadata": {},
   "source": [
    "    Optymalizacja kampanii"
   ]
  },
  {
   "cell_type": "markdown",
   "metadata": {},
   "source": [
    "https://www.searchenginejournal.com/analysis-of-online-marketing-campaigns-effectiveness-from-a-to-z/28795/"
   ]
  },
  {
   "cell_type": "markdown",
   "metadata": {},
   "source": [
    "    Optymalizacja kampanii"
   ]
  },
  {
   "cell_type": "markdown",
   "metadata": {},
   "source": [
    "https://www.searchenginejournal.com/analysis-of-online-marketing-campaigns-effectiveness-from-a-to-z/28795/"
   ]
  },
  {
   "cell_type": "markdown",
   "metadata": {},
   "source": [
    "    BQ"
   ]
  },
  {
   "cell_type": "markdown",
   "metadata": {},
   "source": [
    "https://cloud.google.com/bigquery/docs/quickstarts/quickstart-web-ui\n",
    "https://www.sqlpedia.pl/wszystko-o-null/\n",
    "https://stackoverflow.com/questions/11183572/whats-the-difference-between-rank-and-dense-rank-functions-in-oracle\n",
    "https://firebase.googleblog.com/2017/03/bigquery-tip-unnest-function.html"
   ]
  },
  {
   "cell_type": "markdown",
   "metadata": {},
   "source": [
    "    TABLEAU"
   ]
  },
  {
   "cell_type": "markdown",
   "metadata": {},
   "source": [
    "https://www.olgatsubiks.com/frequently-used-tableau-calculation\n",
    "https://www.tableau.com/learn/tutorials/on-demand/getting-started-data?reg-delay=true\n",
    "https://help.tableau.com/current/pro/desktop/en-us/customsql.htm\n",
    "https://help.tableau.com/current/pro/desktop/en-us/dates_custom_date_formats.htm"
   ]
  },
  {
   "cell_type": "markdown",
   "metadata": {},
   "source": [
    "    Statystyka"
   ]
  },
  {
   "cell_type": "markdown",
   "metadata": {},
   "source": [
    "http://www.statsmodels.org/devel/index.html"
   ]
  },
  {
   "cell_type": "markdown",
   "metadata": {},
   "source": [
    "    ML"
   ]
  },
  {
   "cell_type": "markdown",
   "metadata": {},
   "source": [
    "https://www.analyticsvidhya.com/blog/2016/01/guide-data-exploration/\n",
    "https://www.cs.cornell.edu/courses/cs578/2003fa/performance_measures.pdf\n",
    "https://newonlinecourses.science.psu.edu/stat507/node/71/"
   ]
  },
  {
   "cell_type": "markdown",
   "metadata": {},
   "source": []
  },
  {
   "cell_type": "markdown",
   "metadata": {},
   "source": [
    "airflow\n",
    "https://medium.com/@dustinstansbury/understanding-apache-airflows-key-concepts-a96efed52b1a\n",
    "\n",
    "spark\n",
    "https://databricks.com/blog/2017/10/30/introducing-vectorized-udfs-for-pyspark.html"
   ]
  },
  {
   "cell_type": "markdown",
   "metadata": {},
   "source": []
  },
  {
   "cell_type": "markdown",
   "metadata": {},
   "source": []
  },
  {
   "cell_type": "markdown",
   "metadata": {},
   "source": []
  },
  {
   "cell_type": "markdown",
   "metadata": {},
   "source": [
    "słownik frazeologiczny\n",
    "http://www.edupedia.pl/map/dictionary/id/6_slownik_frazeologiczny.html"
   ]
  }
 ],
 "metadata": {
  "kernelspec": {
   "display_name": "Python [default]",
   "language": "python",
   "name": "python3"
  },
  "language_info": {
   "codemirror_mode": {
    "name": "ipython",
    "version": 3
   },
   "file_extension": ".py",
   "mimetype": "text/x-python",
   "name": "python",
   "nbconvert_exporter": "python",
   "pygments_lexer": "ipython3",
   "version": "3.6.2"
  }
 },
 "nbformat": 4,
 "nbformat_minor": 2
}
